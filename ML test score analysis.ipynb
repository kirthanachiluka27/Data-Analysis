{
 "cells": [
  {
   "cell_type": "markdown",
   "id": "f9cae2ab",
   "metadata": {},
   "source": [
    "# ML_test_score_data_analysis"
   ]
  },
  {
   "cell_type": "markdown",
   "id": "f13ecfe7",
   "metadata": {},
   "source": [
    "# Importing required libraries"
   ]
  },
  {
   "cell_type": "code",
   "execution_count": 1,
   "id": "70d78a9c",
   "metadata": {},
   "outputs": [],
   "source": [
    "import pandas as pd\n",
    "import numpy as np\n",
    "import matplotlib.pyplot as plt\n",
    "import seaborn as sns\n"
   ]
  },
  {
   "cell_type": "code",
   "execution_count": 2,
   "id": "120c48cd",
   "metadata": {},
   "outputs": [],
   "source": [
    "df=pd.read_csv(r\"C:\\Users\\DELL\\Downloads\\scores_data.csv\")"
   ]
  },
  {
   "cell_type": "code",
   "execution_count": 3,
   "id": "b2e35dbb",
   "metadata": {},
   "outputs": [
    {
     "data": {
      "text/html": [
       "<div>\n",
       "<style scoped>\n",
       "    .dataframe tbody tr th:only-of-type {\n",
       "        vertical-align: middle;\n",
       "    }\n",
       "\n",
       "    .dataframe tbody tr th {\n",
       "        vertical-align: top;\n",
       "    }\n",
       "\n",
       "    .dataframe thead th {\n",
       "        text-align: right;\n",
       "    }\n",
       "</style>\n",
       "<table border=\"1\" class=\"dataframe\">\n",
       "  <thead>\n",
       "    <tr style=\"text-align: right;\">\n",
       "      <th></th>\n",
       "      <th>Batch</th>\n",
       "      <th>User_ID</th>\n",
       "      <th>Score</th>\n",
       "    </tr>\n",
       "  </thead>\n",
       "  <tbody>\n",
       "    <tr>\n",
       "      <th>0</th>\n",
       "      <td>AI_ELITE_7</td>\n",
       "      <td>uid_149</td>\n",
       "      <td>6 / 7</td>\n",
       "    </tr>\n",
       "    <tr>\n",
       "      <th>1</th>\n",
       "      <td>AI_ELITE_7</td>\n",
       "      <td>uid_148</td>\n",
       "      <td>6 / 7</td>\n",
       "    </tr>\n",
       "    <tr>\n",
       "      <th>2</th>\n",
       "      <td>AI_ELITE_7</td>\n",
       "      <td>uid_147</td>\n",
       "      <td>7 / 7</td>\n",
       "    </tr>\n",
       "    <tr>\n",
       "      <th>3</th>\n",
       "      <td>AI_ELITE_7</td>\n",
       "      <td>uid_146</td>\n",
       "      <td>7 / 7</td>\n",
       "    </tr>\n",
       "    <tr>\n",
       "      <th>4</th>\n",
       "      <td>AI_ELITE_7</td>\n",
       "      <td>uid_145</td>\n",
       "      <td>4 / 7</td>\n",
       "    </tr>\n",
       "    <tr>\n",
       "      <th>...</th>\n",
       "      <td>...</td>\n",
       "      <td>...</td>\n",
       "      <td>...</td>\n",
       "    </tr>\n",
       "    <tr>\n",
       "      <th>144</th>\n",
       "      <td>AI_ELITE_4</td>\n",
       "      <td>uid_5</td>\n",
       "      <td>4 / 7</td>\n",
       "    </tr>\n",
       "    <tr>\n",
       "      <th>145</th>\n",
       "      <td>AI_ELITE_4</td>\n",
       "      <td>uid_4</td>\n",
       "      <td>4 / 7</td>\n",
       "    </tr>\n",
       "    <tr>\n",
       "      <th>146</th>\n",
       "      <td>AI_ELITE_4</td>\n",
       "      <td>uid_3</td>\n",
       "      <td>4 / 7</td>\n",
       "    </tr>\n",
       "    <tr>\n",
       "      <th>147</th>\n",
       "      <td>AI_ELITE_4</td>\n",
       "      <td>uid_2</td>\n",
       "      <td>3 / 7</td>\n",
       "    </tr>\n",
       "    <tr>\n",
       "      <th>148</th>\n",
       "      <td>AI_ELITE_4</td>\n",
       "      <td>uid_1</td>\n",
       "      <td>2 / 7</td>\n",
       "    </tr>\n",
       "  </tbody>\n",
       "</table>\n",
       "<p>149 rows × 3 columns</p>\n",
       "</div>"
      ],
      "text/plain": [
       "         Batch  User_ID     Score   \n",
       "0    AI_ELITE_7  uid_149       6 / 7\n",
       "1    AI_ELITE_7  uid_148       6 / 7\n",
       "2    AI_ELITE_7  uid_147       7 / 7\n",
       "3    AI_ELITE_7  uid_146       7 / 7\n",
       "4    AI_ELITE_7  uid_145       4 / 7\n",
       "..          ...      ...         ...\n",
       "144  AI_ELITE_4    uid_5       4 / 7\n",
       "145  AI_ELITE_4    uid_4       4 / 7\n",
       "146  AI_ELITE_4    uid_3       4 / 7\n",
       "147  AI_ELITE_4    uid_2       3 / 7\n",
       "148  AI_ELITE_4    uid_1       2 / 7\n",
       "\n",
       "[149 rows x 3 columns]"
      ]
     },
     "execution_count": 3,
     "metadata": {},
     "output_type": "execute_result"
    }
   ],
   "source": [
    "df"
   ]
  },
  {
   "cell_type": "code",
   "execution_count": 4,
   "id": "b22768e9",
   "metadata": {},
   "outputs": [
    {
     "name": "stdout",
     "output_type": "stream",
     "text": [
      "<class 'pandas.core.frame.DataFrame'>\n",
      "RangeIndex: 149 entries, 0 to 148\n",
      "Data columns (total 3 columns):\n",
      " #   Column       Non-Null Count  Dtype \n",
      "---  ------       --------------  ----- \n",
      " 0   Batch        149 non-null    object\n",
      " 1   User_ID      149 non-null    object\n",
      " 2      Score     149 non-null    object\n",
      "dtypes: object(3)\n",
      "memory usage: 3.6+ KB\n"
     ]
    }
   ],
   "source": [
    "df.info()"
   ]
  },
  {
   "cell_type": "code",
   "execution_count": null,
   "id": "fe0242d3",
   "metadata": {},
   "outputs": [],
   "source": []
  },
  {
   "cell_type": "code",
   "execution_count": 5,
   "id": "6e414355",
   "metadata": {},
   "outputs": [
    {
     "data": {
      "text/plain": [
       "Batch          0\n",
       "User_ID        0\n",
       "   Score       0\n",
       "dtype: int64"
      ]
     },
     "execution_count": 5,
     "metadata": {},
     "output_type": "execute_result"
    }
   ],
   "source": [
    "df.isnull().sum()"
   ]
  },
  {
   "cell_type": "code",
   "execution_count": 6,
   "id": "5e42d95c",
   "metadata": {},
   "outputs": [
    {
     "data": {
      "text/plain": [
       "0"
      ]
     },
     "execution_count": 6,
     "metadata": {},
     "output_type": "execute_result"
    }
   ],
   "source": [
    "df.duplicated().sum()"
   ]
  },
  {
   "cell_type": "code",
   "execution_count": 7,
   "id": "fb4cc856",
   "metadata": {},
   "outputs": [],
   "source": [
    "#this is dataset with no null values no duplicates \n",
    "# there are 150 ID's i.es datapoints with three features"
   ]
  },
  {
   "cell_type": "code",
   "execution_count": 8,
   "id": "efc37f84",
   "metadata": {},
   "outputs": [
    {
     "data": {
      "text/plain": [
       "Index(['Batch ', 'User_ID ', '   Score   '], dtype='object')"
      ]
     },
     "execution_count": 8,
     "metadata": {},
     "output_type": "execute_result"
    }
   ],
   "source": [
    "df.columns"
   ]
  },
  {
   "cell_type": "markdown",
   "id": "9850fb51",
   "metadata": {},
   "source": [
    "# Data cleaning and anaysis"
   ]
  },
  {
   "cell_type": "code",
   "execution_count": 9,
   "id": "2d161ac6",
   "metadata": {},
   "outputs": [],
   "source": [
    "df.columns = df.columns.str.replace(' ','')"
   ]
  },
  {
   "cell_type": "code",
   "execution_count": 10,
   "id": "f8dc3b05",
   "metadata": {},
   "outputs": [],
   "source": [
    "df['Score']=df['Score'].str.split(\"/\").str[0].astype(\"int\")"
   ]
  },
  {
   "cell_type": "code",
   "execution_count": 11,
   "id": "b8636165",
   "metadata": {},
   "outputs": [],
   "source": [
    "#df['Score']=df['Score'].str.replace('7','')"
   ]
  },
  {
   "cell_type": "code",
   "execution_count": 12,
   "id": "8391ccb2",
   "metadata": {},
   "outputs": [
    {
     "data": {
      "text/plain": [
       "array([6, 7, 4, 5, 3, 2, 0, 1])"
      ]
     },
     "execution_count": 12,
     "metadata": {},
     "output_type": "execute_result"
    }
   ],
   "source": [
    "df[\"Score\"].unique()"
   ]
  },
  {
   "cell_type": "code",
   "execution_count": 13,
   "id": "d9f29a11",
   "metadata": {},
   "outputs": [
    {
     "name": "stdout",
     "output_type": "stream",
     "text": [
      "<class 'pandas.core.frame.DataFrame'>\n",
      "RangeIndex: 149 entries, 0 to 148\n",
      "Data columns (total 3 columns):\n",
      " #   Column   Non-Null Count  Dtype \n",
      "---  ------   --------------  ----- \n",
      " 0   Batch    149 non-null    object\n",
      " 1   User_ID  149 non-null    object\n",
      " 2   Score    149 non-null    int32 \n",
      "dtypes: int32(1), object(2)\n",
      "memory usage: 3.0+ KB\n"
     ]
    }
   ],
   "source": [
    "df.info()"
   ]
  },
  {
   "cell_type": "code",
   "execution_count": 14,
   "id": "df64c2ed",
   "metadata": {},
   "outputs": [
    {
     "name": "stdout",
     "output_type": "stream",
     "text": [
      "0\n",
      "7\n"
     ]
    }
   ],
   "source": [
    "print(df['Score'].min())\n",
    "\n",
    "print(df['Score'].max())"
   ]
  },
  {
   "cell_type": "code",
   "execution_count": 15,
   "id": "901ede16",
   "metadata": {},
   "outputs": [
    {
     "data": {
      "text/plain": [
       "<AxesSubplot:>"
      ]
     },
     "execution_count": 15,
     "metadata": {},
     "output_type": "execute_result"
    },
    {
     "data": {
      "image/png": "[encoded data removed]",
      "text/plain": [
       "<Figure size 432x288 with 1 Axes>"
      ]
     },
     "metadata": {
      "needs_background": "light"
     },
     "output_type": "display_data"
    }
   ],
   "source": [
    "df['Score'].plot(kind='box')"
   ]
  },
  {
   "cell_type": "code",
   "execution_count": 16,
   "id": "0c5a63fb",
   "metadata": {},
   "outputs": [
    {
     "data": {
      "image/png": "[encoded data removed]",
      "text/plain": [
       "<Figure size 432x288 with 1 Axes>"
      ]
     },
     "metadata": {
      "needs_background": "light"
     },
     "output_type": "display_data"
    }
   ],
   "source": [
    "sns.scatterplot(data=df,x=\"Score\",y=\"Batch\",hue=\"Batch\")\n",
    "plt.show()"
   ]
  },
  {
   "cell_type": "code",
   "execution_count": 17,
   "id": "e3287e9a",
   "metadata": {},
   "outputs": [
    {
     "name": "stderr",
     "output_type": "stream",
     "text": [
      "C:\\Users\\DELL\\anaconda3\\lib\\site-packages\\seaborn\\_decorators.py:36: FutureWarning: Pass the following variables as keyword args: x, y. From version 0.12, the only valid positional argument will be `data`, and passing other arguments without an explicit keyword will result in an error or misinterpretation.\n",
      "  warnings.warn(\n"
     ]
    },
    {
     "data": {
      "text/plain": [
       "<AxesSubplot:xlabel='Score', ylabel='Batch'>"
      ]
     },
     "execution_count": 17,
     "metadata": {},
     "output_type": "execute_result"
    },
    {
     "data": {
      "image/png": "[encoded data removed]",
      "text/plain": [
       "<Figure size 432x288 with 1 Axes>"
      ]
     },
     "metadata": {
      "needs_background": "light"
     },
     "output_type": "display_data"
    }
   ],
   "source": [
    "sns.barplot(df[\"Score\"],df[\"Batch\"])"
   ]
  },
  {
   "cell_type": "code",
   "execution_count": 18,
   "id": "3349b3ac",
   "metadata": {},
   "outputs": [
    {
     "name": "stderr",
     "output_type": "stream",
     "text": [
      "C:\\Users\\DELL\\anaconda3\\lib\\site-packages\\seaborn\\distributions.py:2619: FutureWarning: `distplot` is a deprecated function and will be removed in a future version. Please adapt your code to use either `displot` (a figure-level function with similar flexibility) or `kdeplot` (an axes-level function for kernel density plots).\n",
      "  warnings.warn(msg, FutureWarning)\n"
     ]
    },
    {
     "data": {
      "text/plain": [
       "<AxesSubplot:ylabel='Density'>"
      ]
     },
     "execution_count": 18,
     "metadata": {},
     "output_type": "execute_result"
    },
    {
     "data": {
      "image/png": "[encoded data removed]",
      "text/plain": [
       "<Figure size 432x288 with 1 Axes>"
      ]
     },
     "metadata": {
      "needs_background": "light"
     },
     "output_type": "display_data"
    }
   ],
   "source": [
    "sns.distplot(x=df[\"Score\"],hist=False)"
   ]
  },
  {
   "cell_type": "code",
   "execution_count": 19,
   "id": "db75ec7e",
   "metadata": {},
   "outputs": [
    {
     "data": {
      "text/plain": [
       "(array([ 5., 12., 24., 40., 32., 36.]),\n",
       " array([0.        , 1.16666667, 2.33333333, 3.5       , 4.66666667,\n",
       "        5.83333333, 7.        ]),\n",
       " <BarContainer object of 6 artists>)"
      ]
     },
     "execution_count": 19,
     "metadata": {},
     "output_type": "execute_result"
    },
    {
     "data": {
      "image/png": "[encoded data removed]",
      "text/plain": [
       "<Figure size 432x288 with 1 Axes>"
      ]
     },
     "metadata": {
      "needs_background": "light"
     },
     "output_type": "display_data"
    }
   ],
   "source": [
    "plt.hist(df[\"Score\"],bins=6,rwidth=0.95)"
   ]
  },
  {
   "cell_type": "code",
   "execution_count": 20,
   "id": "fa9b7f80",
   "metadata": {},
   "outputs": [
    {
     "data": {
      "text/plain": [
       "AI_ELITE_7    53\n",
       "AI_ELITE_6    48\n",
       "AI_ELITE_4    48\n",
       "Name: Batch, dtype: int64"
      ]
     },
     "execution_count": 20,
     "metadata": {},
     "output_type": "execute_result"
    }
   ],
   "source": [
    "df[\"Batch\"].value_counts()"
   ]
  },
  {
   "cell_type": "code",
   "execution_count": 21,
   "id": "1549f95a",
   "metadata": {},
   "outputs": [
    {
     "data": {
      "image/png": "[encoded data removed]",
      "text/plain": [
       "<Figure size 1224x360 with 1 Axes>"
      ]
     },
     "metadata": {
      "needs_background": "light"
     },
     "output_type": "display_data"
    }
   ],
   "source": [
    "plt.figure(figsize=(17,5))\n",
    "sns.boxplot(data=df,y=\"Batch\",x=\"Score\")\n",
    "plt.xticks(rotation=90)\n",
    "plt.xlabel=(\"Batch Score\")\n",
    "plt.ylabel(\"Batch no\")\n",
    "plt.title(\"Batch vs Score\")\n",
    "plt.show()"
   ]
  },
  {
   "cell_type": "code",
   "execution_count": 22,
   "id": "62570440",
   "metadata": {},
   "outputs": [],
   "source": [
    "x=df.groupby(\"Score\")"
   ]
  },
  {
   "cell_type": "code",
   "execution_count": 23,
   "id": "5fb6cfb9",
   "metadata": {},
   "outputs": [
    {
     "data": {
      "text/plain": [
       "8"
      ]
     },
     "execution_count": 23,
     "metadata": {},
     "output_type": "execute_result"
    }
   ],
   "source": [
    "x.ngroups"
   ]
  },
  {
   "cell_type": "code",
   "execution_count": 24,
   "id": "ac626692",
   "metadata": {},
   "outputs": [
    {
     "data": {
      "text/plain": [
       "array([6, 7, 4, 5, 3, 2, 0, 1])"
      ]
     },
     "execution_count": 24,
     "metadata": {},
     "output_type": "execute_result"
    }
   ],
   "source": [
    "df[\"Score\"].unique()"
   ]
  },
  {
   "cell_type": "code",
   "execution_count": 25,
   "id": "28f52a69",
   "metadata": {},
   "outputs": [
    {
     "data": {
      "text/plain": [
       "4    40\n",
       "5    32\n",
       "3    24\n",
       "6    18\n",
       "7    18\n",
       "2    12\n",
       "1     3\n",
       "0     2\n",
       "Name: Score, dtype: int64"
      ]
     },
     "execution_count": 25,
     "metadata": {},
     "output_type": "execute_result"
    }
   ],
   "source": [
    "df[\"Score\"].value_counts()"
   ]
  },
  {
   "cell_type": "code",
   "execution_count": 92,
   "id": "9bcf5aa7",
   "metadata": {},
   "outputs": [],
   "source": [
    "a=df.loc[(df[\"Batch\"]==\"AI_ELITE_7\") & (df[\"Score\"]>5)]"
   ]
  },
  {
   "cell_type": "code",
   "execution_count": 28,
   "id": "a243e95b",
   "metadata": {},
   "outputs": [
    {
     "data": {
      "text/html": [
       "<div>\n",
       "<style scoped>\n",
       "    .dataframe tbody tr th:only-of-type {\n",
       "        vertical-align: middle;\n",
       "    }\n",
       "\n",
       "    .dataframe tbody tr th {\n",
       "        vertical-align: top;\n",
       "    }\n",
       "\n",
       "    .dataframe thead th {\n",
       "        text-align: right;\n",
       "    }\n",
       "</style>\n",
       "<table border=\"1\" class=\"dataframe\">\n",
       "  <thead>\n",
       "    <tr style=\"text-align: right;\">\n",
       "      <th></th>\n",
       "      <th>Batch</th>\n",
       "      <th>User_ID</th>\n",
       "      <th>Score</th>\n",
       "    </tr>\n",
       "  </thead>\n",
       "  <tbody>\n",
       "    <tr>\n",
       "      <th>4</th>\n",
       "      <td>AI_ELITE_7</td>\n",
       "      <td>uid_145</td>\n",
       "      <td>4</td>\n",
       "    </tr>\n",
       "    <tr>\n",
       "      <th>8</th>\n",
       "      <td>AI_ELITE_7</td>\n",
       "      <td>uid_141</td>\n",
       "      <td>3</td>\n",
       "    </tr>\n",
       "    <tr>\n",
       "      <th>11</th>\n",
       "      <td>AI_ELITE_7</td>\n",
       "      <td>uid_138</td>\n",
       "      <td>3</td>\n",
       "    </tr>\n",
       "    <tr>\n",
       "      <th>20</th>\n",
       "      <td>AI_ELITE_7</td>\n",
       "      <td>uid_129</td>\n",
       "      <td>4</td>\n",
       "    </tr>\n",
       "    <tr>\n",
       "      <th>25</th>\n",
       "      <td>AI_ELITE_7</td>\n",
       "      <td>uid_124</td>\n",
       "      <td>3</td>\n",
       "    </tr>\n",
       "    <tr>\n",
       "      <th>26</th>\n",
       "      <td>AI_ELITE_7</td>\n",
       "      <td>uid_123</td>\n",
       "      <td>4</td>\n",
       "    </tr>\n",
       "    <tr>\n",
       "      <th>28</th>\n",
       "      <td>AI_ELITE_7</td>\n",
       "      <td>uid_121</td>\n",
       "      <td>4</td>\n",
       "    </tr>\n",
       "    <tr>\n",
       "      <th>32</th>\n",
       "      <td>AI_ELITE_7</td>\n",
       "      <td>uid_117</td>\n",
       "      <td>3</td>\n",
       "    </tr>\n",
       "    <tr>\n",
       "      <th>33</th>\n",
       "      <td>AI_ELITE_7</td>\n",
       "      <td>uid_116</td>\n",
       "      <td>4</td>\n",
       "    </tr>\n",
       "    <tr>\n",
       "      <th>37</th>\n",
       "      <td>AI_ELITE_7</td>\n",
       "      <td>uid_112</td>\n",
       "      <td>2</td>\n",
       "    </tr>\n",
       "    <tr>\n",
       "      <th>38</th>\n",
       "      <td>AI_ELITE_7</td>\n",
       "      <td>uid_111</td>\n",
       "      <td>3</td>\n",
       "    </tr>\n",
       "    <tr>\n",
       "      <th>39</th>\n",
       "      <td>AI_ELITE_7</td>\n",
       "      <td>uid_110</td>\n",
       "      <td>4</td>\n",
       "    </tr>\n",
       "    <tr>\n",
       "      <th>40</th>\n",
       "      <td>AI_ELITE_7</td>\n",
       "      <td>uid_109</td>\n",
       "      <td>4</td>\n",
       "    </tr>\n",
       "    <tr>\n",
       "      <th>45</th>\n",
       "      <td>AI_ELITE_7</td>\n",
       "      <td>uid_104</td>\n",
       "      <td>4</td>\n",
       "    </tr>\n",
       "    <tr>\n",
       "      <th>47</th>\n",
       "      <td>AI_ELITE_7</td>\n",
       "      <td>uid_102</td>\n",
       "      <td>4</td>\n",
       "    </tr>\n",
       "    <tr>\n",
       "      <th>49</th>\n",
       "      <td>AI_ELITE_7</td>\n",
       "      <td>uid_100</td>\n",
       "      <td>3</td>\n",
       "    </tr>\n",
       "    <tr>\n",
       "      <th>50</th>\n",
       "      <td>AI_ELITE_7</td>\n",
       "      <td>uid_99</td>\n",
       "      <td>2</td>\n",
       "    </tr>\n",
       "    <tr>\n",
       "      <th>51</th>\n",
       "      <td>AI_ELITE_7</td>\n",
       "      <td>uid_98</td>\n",
       "      <td>4</td>\n",
       "    </tr>\n",
       "    <tr>\n",
       "      <th>52</th>\n",
       "      <td>AI_ELITE_7</td>\n",
       "      <td>uid_97</td>\n",
       "      <td>3</td>\n",
       "    </tr>\n",
       "  </tbody>\n",
       "</table>\n",
       "</div>"
      ],
      "text/plain": [
       "         Batch  User_ID  Score\n",
       "4   AI_ELITE_7  uid_145      4\n",
       "8   AI_ELITE_7  uid_141      3\n",
       "11  AI_ELITE_7  uid_138      3\n",
       "20  AI_ELITE_7  uid_129      4\n",
       "25  AI_ELITE_7  uid_124      3\n",
       "26  AI_ELITE_7  uid_123      4\n",
       "28  AI_ELITE_7  uid_121      4\n",
       "32  AI_ELITE_7  uid_117      3\n",
       "33  AI_ELITE_7  uid_116      4\n",
       "37  AI_ELITE_7  uid_112      2\n",
       "38  AI_ELITE_7  uid_111      3\n",
       "39  AI_ELITE_7  uid_110      4\n",
       "40  AI_ELITE_7  uid_109      4\n",
       "45  AI_ELITE_7  uid_104      4\n",
       "47  AI_ELITE_7  uid_102      4\n",
       "49  AI_ELITE_7  uid_100      3\n",
       "50  AI_ELITE_7   uid_99      2\n",
       "51  AI_ELITE_7   uid_98      4\n",
       "52  AI_ELITE_7   uid_97      3"
      ]
     },
     "execution_count": 28,
     "metadata": {},
     "output_type": "execute_result"
    }
   ],
   "source": [
    "df.loc[(df[\"Batch\"]==\"AI_ELITE_7\") & (df[\"Score\"]<5)]"
   ]
  },
  {
   "cell_type": "code",
   "execution_count": 33,
   "id": "59c0ec42",
   "metadata": {},
   "outputs": [
    {
     "data": {
      "text/html": [
       "<div>\n",
       "<style scoped>\n",
       "    .dataframe tbody tr th:only-of-type {\n",
       "        vertical-align: middle;\n",
       "    }\n",
       "\n",
       "    .dataframe tbody tr th {\n",
       "        vertical-align: top;\n",
       "    }\n",
       "\n",
       "    .dataframe thead th {\n",
       "        text-align: right;\n",
       "    }\n",
       "</style>\n",
       "<table border=\"1\" class=\"dataframe\">\n",
       "  <thead>\n",
       "    <tr style=\"text-align: right;\">\n",
       "      <th></th>\n",
       "      <th>Batch</th>\n",
       "      <th>User_ID</th>\n",
       "      <th>Score</th>\n",
       "    </tr>\n",
       "  </thead>\n",
       "  <tbody>\n",
       "    <tr>\n",
       "      <th>101</th>\n",
       "      <td>AI_ELITE_4</td>\n",
       "      <td>uid_48</td>\n",
       "      <td>7</td>\n",
       "    </tr>\n",
       "    <tr>\n",
       "      <th>102</th>\n",
       "      <td>AI_ELITE_4</td>\n",
       "      <td>uid_47</td>\n",
       "      <td>5</td>\n",
       "    </tr>\n",
       "    <tr>\n",
       "      <th>103</th>\n",
       "      <td>AI_ELITE_4</td>\n",
       "      <td>uid_46</td>\n",
       "      <td>4</td>\n",
       "    </tr>\n",
       "    <tr>\n",
       "      <th>104</th>\n",
       "      <td>AI_ELITE_4</td>\n",
       "      <td>uid_45</td>\n",
       "      <td>4</td>\n",
       "    </tr>\n",
       "    <tr>\n",
       "      <th>105</th>\n",
       "      <td>AI_ELITE_4</td>\n",
       "      <td>uid_44</td>\n",
       "      <td>7</td>\n",
       "    </tr>\n",
       "    <tr>\n",
       "      <th>106</th>\n",
       "      <td>AI_ELITE_4</td>\n",
       "      <td>uid_43</td>\n",
       "      <td>5</td>\n",
       "    </tr>\n",
       "    <tr>\n",
       "      <th>107</th>\n",
       "      <td>AI_ELITE_4</td>\n",
       "      <td>uid_42</td>\n",
       "      <td>6</td>\n",
       "    </tr>\n",
       "    <tr>\n",
       "      <th>110</th>\n",
       "      <td>AI_ELITE_4</td>\n",
       "      <td>uid_39</td>\n",
       "      <td>4</td>\n",
       "    </tr>\n",
       "    <tr>\n",
       "      <th>112</th>\n",
       "      <td>AI_ELITE_4</td>\n",
       "      <td>uid_37</td>\n",
       "      <td>5</td>\n",
       "    </tr>\n",
       "    <tr>\n",
       "      <th>115</th>\n",
       "      <td>AI_ELITE_4</td>\n",
       "      <td>uid_34</td>\n",
       "      <td>4</td>\n",
       "    </tr>\n",
       "    <tr>\n",
       "      <th>117</th>\n",
       "      <td>AI_ELITE_4</td>\n",
       "      <td>uid_32</td>\n",
       "      <td>4</td>\n",
       "    </tr>\n",
       "    <tr>\n",
       "      <th>118</th>\n",
       "      <td>AI_ELITE_4</td>\n",
       "      <td>uid_31</td>\n",
       "      <td>5</td>\n",
       "    </tr>\n",
       "    <tr>\n",
       "      <th>119</th>\n",
       "      <td>AI_ELITE_4</td>\n",
       "      <td>uid_30</td>\n",
       "      <td>4</td>\n",
       "    </tr>\n",
       "    <tr>\n",
       "      <th>120</th>\n",
       "      <td>AI_ELITE_4</td>\n",
       "      <td>uid_29</td>\n",
       "      <td>3</td>\n",
       "    </tr>\n",
       "    <tr>\n",
       "      <th>121</th>\n",
       "      <td>AI_ELITE_4</td>\n",
       "      <td>uid_28</td>\n",
       "      <td>3</td>\n",
       "    </tr>\n",
       "    <tr>\n",
       "      <th>122</th>\n",
       "      <td>AI_ELITE_4</td>\n",
       "      <td>uid_27</td>\n",
       "      <td>5</td>\n",
       "    </tr>\n",
       "    <tr>\n",
       "      <th>123</th>\n",
       "      <td>AI_ELITE_4</td>\n",
       "      <td>uid_26</td>\n",
       "      <td>4</td>\n",
       "    </tr>\n",
       "    <tr>\n",
       "      <th>124</th>\n",
       "      <td>AI_ELITE_4</td>\n",
       "      <td>uid_25</td>\n",
       "      <td>5</td>\n",
       "    </tr>\n",
       "    <tr>\n",
       "      <th>125</th>\n",
       "      <td>AI_ELITE_4</td>\n",
       "      <td>uid_24</td>\n",
       "      <td>3</td>\n",
       "    </tr>\n",
       "    <tr>\n",
       "      <th>126</th>\n",
       "      <td>AI_ELITE_4</td>\n",
       "      <td>uid_23</td>\n",
       "      <td>3</td>\n",
       "    </tr>\n",
       "    <tr>\n",
       "      <th>127</th>\n",
       "      <td>AI_ELITE_4</td>\n",
       "      <td>uid_22</td>\n",
       "      <td>3</td>\n",
       "    </tr>\n",
       "    <tr>\n",
       "      <th>128</th>\n",
       "      <td>AI_ELITE_4</td>\n",
       "      <td>uid_21</td>\n",
       "      <td>4</td>\n",
       "    </tr>\n",
       "    <tr>\n",
       "      <th>130</th>\n",
       "      <td>AI_ELITE_4</td>\n",
       "      <td>uid_19</td>\n",
       "      <td>3</td>\n",
       "    </tr>\n",
       "    <tr>\n",
       "      <th>131</th>\n",
       "      <td>AI_ELITE_4</td>\n",
       "      <td>uid_18</td>\n",
       "      <td>4</td>\n",
       "    </tr>\n",
       "    <tr>\n",
       "      <th>132</th>\n",
       "      <td>AI_ELITE_4</td>\n",
       "      <td>uid_17</td>\n",
       "      <td>4</td>\n",
       "    </tr>\n",
       "    <tr>\n",
       "      <th>133</th>\n",
       "      <td>AI_ELITE_4</td>\n",
       "      <td>uid_16</td>\n",
       "      <td>4</td>\n",
       "    </tr>\n",
       "    <tr>\n",
       "      <th>134</th>\n",
       "      <td>AI_ELITE_4</td>\n",
       "      <td>uid_15</td>\n",
       "      <td>4</td>\n",
       "    </tr>\n",
       "    <tr>\n",
       "      <th>136</th>\n",
       "      <td>AI_ELITE_4</td>\n",
       "      <td>uid_13</td>\n",
       "      <td>5</td>\n",
       "    </tr>\n",
       "    <tr>\n",
       "      <th>137</th>\n",
       "      <td>AI_ELITE_4</td>\n",
       "      <td>uid_12</td>\n",
       "      <td>4</td>\n",
       "    </tr>\n",
       "    <tr>\n",
       "      <th>138</th>\n",
       "      <td>AI_ELITE_4</td>\n",
       "      <td>uid_11</td>\n",
       "      <td>4</td>\n",
       "    </tr>\n",
       "    <tr>\n",
       "      <th>139</th>\n",
       "      <td>AI_ELITE_4</td>\n",
       "      <td>uid_10</td>\n",
       "      <td>7</td>\n",
       "    </tr>\n",
       "    <tr>\n",
       "      <th>140</th>\n",
       "      <td>AI_ELITE_4</td>\n",
       "      <td>uid_9</td>\n",
       "      <td>4</td>\n",
       "    </tr>\n",
       "    <tr>\n",
       "      <th>141</th>\n",
       "      <td>AI_ELITE_4</td>\n",
       "      <td>uid_8</td>\n",
       "      <td>5</td>\n",
       "    </tr>\n",
       "    <tr>\n",
       "      <th>142</th>\n",
       "      <td>AI_ELITE_4</td>\n",
       "      <td>uid_7</td>\n",
       "      <td>4</td>\n",
       "    </tr>\n",
       "    <tr>\n",
       "      <th>143</th>\n",
       "      <td>AI_ELITE_4</td>\n",
       "      <td>uid_6</td>\n",
       "      <td>3</td>\n",
       "    </tr>\n",
       "    <tr>\n",
       "      <th>144</th>\n",
       "      <td>AI_ELITE_4</td>\n",
       "      <td>uid_5</td>\n",
       "      <td>4</td>\n",
       "    </tr>\n",
       "    <tr>\n",
       "      <th>145</th>\n",
       "      <td>AI_ELITE_4</td>\n",
       "      <td>uid_4</td>\n",
       "      <td>4</td>\n",
       "    </tr>\n",
       "    <tr>\n",
       "      <th>146</th>\n",
       "      <td>AI_ELITE_4</td>\n",
       "      <td>uid_3</td>\n",
       "      <td>4</td>\n",
       "    </tr>\n",
       "    <tr>\n",
       "      <th>147</th>\n",
       "      <td>AI_ELITE_4</td>\n",
       "      <td>uid_2</td>\n",
       "      <td>3</td>\n",
       "    </tr>\n",
       "  </tbody>\n",
       "</table>\n",
       "</div>"
      ],
      "text/plain": [
       "          Batch User_ID  Score\n",
       "101  AI_ELITE_4  uid_48      7\n",
       "102  AI_ELITE_4  uid_47      5\n",
       "103  AI_ELITE_4  uid_46      4\n",
       "104  AI_ELITE_4  uid_45      4\n",
       "105  AI_ELITE_4  uid_44      7\n",
       "106  AI_ELITE_4  uid_43      5\n",
       "107  AI_ELITE_4  uid_42      6\n",
       "110  AI_ELITE_4  uid_39      4\n",
       "112  AI_ELITE_4  uid_37      5\n",
       "115  AI_ELITE_4  uid_34      4\n",
       "117  AI_ELITE_4  uid_32      4\n",
       "118  AI_ELITE_4  uid_31      5\n",
       "119  AI_ELITE_4  uid_30      4\n",
       "120  AI_ELITE_4  uid_29      3\n",
       "121  AI_ELITE_4  uid_28      3\n",
       "122  AI_ELITE_4  uid_27      5\n",
       "123  AI_ELITE_4  uid_26      4\n",
       "124  AI_ELITE_4  uid_25      5\n",
       "125  AI_ELITE_4  uid_24      3\n",
       "126  AI_ELITE_4  uid_23      3\n",
       "127  AI_ELITE_4  uid_22      3\n",
       "128  AI_ELITE_4  uid_21      4\n",
       "130  AI_ELITE_4  uid_19      3\n",
       "131  AI_ELITE_4  uid_18      4\n",
       "132  AI_ELITE_4  uid_17      4\n",
       "133  AI_ELITE_4  uid_16      4\n",
       "134  AI_ELITE_4  uid_15      4\n",
       "136  AI_ELITE_4  uid_13      5\n",
       "137  AI_ELITE_4  uid_12      4\n",
       "138  AI_ELITE_4  uid_11      4\n",
       "139  AI_ELITE_4  uid_10      7\n",
       "140  AI_ELITE_4   uid_9      4\n",
       "141  AI_ELITE_4   uid_8      5\n",
       "142  AI_ELITE_4   uid_7      4\n",
       "143  AI_ELITE_4   uid_6      3\n",
       "144  AI_ELITE_4   uid_5      4\n",
       "145  AI_ELITE_4   uid_4      4\n",
       "146  AI_ELITE_4   uid_3      4\n",
       "147  AI_ELITE_4   uid_2      3"
      ]
     },
     "execution_count": 33,
     "metadata": {},
     "output_type": "execute_result"
    }
   ],
   "source": [
    "df.loc[(df[\"Batch\"]==\"AI_ELITE_4\") & (df[\"Score\"]>=3)]"
   ]
  },
  {
   "cell_type": "code",
   "execution_count": 38,
   "id": "afcc1f42",
   "metadata": {},
   "outputs": [
    {
     "data": {
      "text/html": [
       "<div>\n",
       "<style scoped>\n",
       "    .dataframe tbody tr th:only-of-type {\n",
       "        vertical-align: middle;\n",
       "    }\n",
       "\n",
       "    .dataframe tbody tr th {\n",
       "        vertical-align: top;\n",
       "    }\n",
       "\n",
       "    .dataframe thead th {\n",
       "        text-align: right;\n",
       "    }\n",
       "</style>\n",
       "<table border=\"1\" class=\"dataframe\">\n",
       "  <thead>\n",
       "    <tr style=\"text-align: right;\">\n",
       "      <th></th>\n",
       "      <th>Batch</th>\n",
       "      <th>User_ID</th>\n",
       "      <th>Score</th>\n",
       "    </tr>\n",
       "  </thead>\n",
       "  <tbody>\n",
       "    <tr>\n",
       "      <th>68</th>\n",
       "      <td>AI_ELITE_6</td>\n",
       "      <td>uid_81</td>\n",
       "      <td>0</td>\n",
       "    </tr>\n",
       "  </tbody>\n",
       "</table>\n",
       "</div>"
      ],
      "text/plain": [
       "         Batch User_ID  Score\n",
       "68  AI_ELITE_6  uid_81      0"
      ]
     },
     "execution_count": 38,
     "metadata": {},
     "output_type": "execute_result"
    }
   ],
   "source": [
    "df.loc[(df[\"Batch\"]==\"AI_ELITE_6\") & (df[\"Score\"]<=0)]"
   ]
  },
  {
   "cell_type": "code",
   "execution_count": 39,
   "id": "a7bc283c",
   "metadata": {},
   "outputs": [
    {
     "data": {
      "text/html": [
       "<div>\n",
       "<style scoped>\n",
       "    .dataframe tbody tr th:only-of-type {\n",
       "        vertical-align: middle;\n",
       "    }\n",
       "\n",
       "    .dataframe tbody tr th {\n",
       "        vertical-align: top;\n",
       "    }\n",
       "\n",
       "    .dataframe thead th {\n",
       "        text-align: right;\n",
       "    }\n",
       "</style>\n",
       "<table border=\"1\" class=\"dataframe\">\n",
       "  <thead>\n",
       "    <tr style=\"text-align: right;\">\n",
       "      <th></th>\n",
       "      <th>Batch</th>\n",
       "      <th>User_ID</th>\n",
       "      <th>Score</th>\n",
       "    </tr>\n",
       "  </thead>\n",
       "  <tbody>\n",
       "    <tr>\n",
       "      <th>135</th>\n",
       "      <td>AI_ELITE_4</td>\n",
       "      <td>uid_14</td>\n",
       "      <td>0</td>\n",
       "    </tr>\n",
       "  </tbody>\n",
       "</table>\n",
       "</div>"
      ],
      "text/plain": [
       "          Batch User_ID  Score\n",
       "135  AI_ELITE_4  uid_14      0"
      ]
     },
     "execution_count": 39,
     "metadata": {},
     "output_type": "execute_result"
    }
   ],
   "source": [
    "df.loc[(df[\"Batch\"]==\"AI_ELITE_4\") & (df[\"Score\"]<=0)]"
   ]
  },
  {
   "cell_type": "code",
   "execution_count": 40,
   "id": "224c9bb2",
   "metadata": {},
   "outputs": [
    {
     "data": {
      "text/html": [
       "<div>\n",
       "<style scoped>\n",
       "    .dataframe tbody tr th:only-of-type {\n",
       "        vertical-align: middle;\n",
       "    }\n",
       "\n",
       "    .dataframe tbody tr th {\n",
       "        vertical-align: top;\n",
       "    }\n",
       "\n",
       "    .dataframe thead th {\n",
       "        text-align: right;\n",
       "    }\n",
       "</style>\n",
       "<table border=\"1\" class=\"dataframe\">\n",
       "  <thead>\n",
       "    <tr style=\"text-align: right;\">\n",
       "      <th></th>\n",
       "      <th>Batch</th>\n",
       "      <th>User_ID</th>\n",
       "      <th>Score</th>\n",
       "    </tr>\n",
       "  </thead>\n",
       "  <tbody>\n",
       "    <tr>\n",
       "      <th>2</th>\n",
       "      <td>AI_ELITE_7</td>\n",
       "      <td>uid_147</td>\n",
       "      <td>7</td>\n",
       "    </tr>\n",
       "    <tr>\n",
       "      <th>3</th>\n",
       "      <td>AI_ELITE_7</td>\n",
       "      <td>uid_146</td>\n",
       "      <td>7</td>\n",
       "    </tr>\n",
       "    <tr>\n",
       "      <th>5</th>\n",
       "      <td>AI_ELITE_7</td>\n",
       "      <td>uid_144</td>\n",
       "      <td>7</td>\n",
       "    </tr>\n",
       "    <tr>\n",
       "      <th>7</th>\n",
       "      <td>AI_ELITE_7</td>\n",
       "      <td>uid_142</td>\n",
       "      <td>7</td>\n",
       "    </tr>\n",
       "    <tr>\n",
       "      <th>15</th>\n",
       "      <td>AI_ELITE_7</td>\n",
       "      <td>uid_134</td>\n",
       "      <td>7</td>\n",
       "    </tr>\n",
       "    <tr>\n",
       "      <th>16</th>\n",
       "      <td>AI_ELITE_7</td>\n",
       "      <td>uid_133</td>\n",
       "      <td>7</td>\n",
       "    </tr>\n",
       "    <tr>\n",
       "      <th>17</th>\n",
       "      <td>AI_ELITE_7</td>\n",
       "      <td>uid_132</td>\n",
       "      <td>7</td>\n",
       "    </tr>\n",
       "    <tr>\n",
       "      <th>19</th>\n",
       "      <td>AI_ELITE_7</td>\n",
       "      <td>uid_130</td>\n",
       "      <td>7</td>\n",
       "    </tr>\n",
       "    <tr>\n",
       "      <th>24</th>\n",
       "      <td>AI_ELITE_7</td>\n",
       "      <td>uid_125</td>\n",
       "      <td>7</td>\n",
       "    </tr>\n",
       "    <tr>\n",
       "      <th>35</th>\n",
       "      <td>AI_ELITE_7</td>\n",
       "      <td>uid_114</td>\n",
       "      <td>7</td>\n",
       "    </tr>\n",
       "  </tbody>\n",
       "</table>\n",
       "</div>"
      ],
      "text/plain": [
       "         Batch  User_ID  Score\n",
       "2   AI_ELITE_7  uid_147      7\n",
       "3   AI_ELITE_7  uid_146      7\n",
       "5   AI_ELITE_7  uid_144      7\n",
       "7   AI_ELITE_7  uid_142      7\n",
       "15  AI_ELITE_7  uid_134      7\n",
       "16  AI_ELITE_7  uid_133      7\n",
       "17  AI_ELITE_7  uid_132      7\n",
       "19  AI_ELITE_7  uid_130      7\n",
       "24  AI_ELITE_7  uid_125      7\n",
       "35  AI_ELITE_7  uid_114      7"
      ]
     },
     "execution_count": 40,
     "metadata": {},
     "output_type": "execute_result"
    }
   ],
   "source": [
    "df.loc[(df[\"Batch\"]==\"AI_ELITE_7\") & (df[\"Score\"]>=7)]"
   ]
  },
  {
   "cell_type": "code",
   "execution_count": 41,
   "id": "a08dad4a",
   "metadata": {},
   "outputs": [
    {
     "data": {
      "text/html": [
       "<div>\n",
       "<style scoped>\n",
       "    .dataframe tbody tr th:only-of-type {\n",
       "        vertical-align: middle;\n",
       "    }\n",
       "\n",
       "    .dataframe tbody tr th {\n",
       "        vertical-align: top;\n",
       "    }\n",
       "\n",
       "    .dataframe thead th {\n",
       "        text-align: right;\n",
       "    }\n",
       "</style>\n",
       "<table border=\"1\" class=\"dataframe\">\n",
       "  <thead>\n",
       "    <tr style=\"text-align: right;\">\n",
       "      <th></th>\n",
       "      <th>Batch</th>\n",
       "      <th>User_ID</th>\n",
       "      <th>Score</th>\n",
       "    </tr>\n",
       "  </thead>\n",
       "  <tbody>\n",
       "    <tr>\n",
       "      <th>63</th>\n",
       "      <td>AI_ELITE_6</td>\n",
       "      <td>uid_86</td>\n",
       "      <td>7</td>\n",
       "    </tr>\n",
       "    <tr>\n",
       "      <th>67</th>\n",
       "      <td>AI_ELITE_6</td>\n",
       "      <td>uid_82</td>\n",
       "      <td>7</td>\n",
       "    </tr>\n",
       "    <tr>\n",
       "      <th>74</th>\n",
       "      <td>AI_ELITE_6</td>\n",
       "      <td>uid_75</td>\n",
       "      <td>7</td>\n",
       "    </tr>\n",
       "    <tr>\n",
       "      <th>78</th>\n",
       "      <td>AI_ELITE_6</td>\n",
       "      <td>uid_71</td>\n",
       "      <td>7</td>\n",
       "    </tr>\n",
       "    <tr>\n",
       "      <th>98</th>\n",
       "      <td>AI_ELITE_6</td>\n",
       "      <td>uid_51</td>\n",
       "      <td>7</td>\n",
       "    </tr>\n",
       "  </tbody>\n",
       "</table>\n",
       "</div>"
      ],
      "text/plain": [
       "         Batch User_ID  Score\n",
       "63  AI_ELITE_6  uid_86      7\n",
       "67  AI_ELITE_6  uid_82      7\n",
       "74  AI_ELITE_6  uid_75      7\n",
       "78  AI_ELITE_6  uid_71      7\n",
       "98  AI_ELITE_6  uid_51      7"
      ]
     },
     "execution_count": 41,
     "metadata": {},
     "output_type": "execute_result"
    }
   ],
   "source": [
    "df.loc[(df[\"Batch\"]==\"AI_ELITE_6\") & (df[\"Score\"]>=7)]"
   ]
  },
  {
   "cell_type": "code",
   "execution_count": 42,
   "id": "17fe3201",
   "metadata": {},
   "outputs": [
    {
     "data": {
      "text/html": [
       "<div>\n",
       "<style scoped>\n",
       "    .dataframe tbody tr th:only-of-type {\n",
       "        vertical-align: middle;\n",
       "    }\n",
       "\n",
       "    .dataframe tbody tr th {\n",
       "        vertical-align: top;\n",
       "    }\n",
       "\n",
       "    .dataframe thead th {\n",
       "        text-align: right;\n",
       "    }\n",
       "</style>\n",
       "<table border=\"1\" class=\"dataframe\">\n",
       "  <thead>\n",
       "    <tr style=\"text-align: right;\">\n",
       "      <th></th>\n",
       "      <th>Batch</th>\n",
       "      <th>User_ID</th>\n",
       "      <th>Score</th>\n",
       "    </tr>\n",
       "  </thead>\n",
       "  <tbody>\n",
       "    <tr>\n",
       "      <th>101</th>\n",
       "      <td>AI_ELITE_4</td>\n",
       "      <td>uid_48</td>\n",
       "      <td>7</td>\n",
       "    </tr>\n",
       "    <tr>\n",
       "      <th>105</th>\n",
       "      <td>AI_ELITE_4</td>\n",
       "      <td>uid_44</td>\n",
       "      <td>7</td>\n",
       "    </tr>\n",
       "    <tr>\n",
       "      <th>139</th>\n",
       "      <td>AI_ELITE_4</td>\n",
       "      <td>uid_10</td>\n",
       "      <td>7</td>\n",
       "    </tr>\n",
       "  </tbody>\n",
       "</table>\n",
       "</div>"
      ],
      "text/plain": [
       "          Batch User_ID  Score\n",
       "101  AI_ELITE_4  uid_48      7\n",
       "105  AI_ELITE_4  uid_44      7\n",
       "139  AI_ELITE_4  uid_10      7"
      ]
     },
     "execution_count": 42,
     "metadata": {},
     "output_type": "execute_result"
    }
   ],
   "source": [
    "df.loc[(df[\"Batch\"]==\"AI_ELITE_4\") & (df[\"Score\"]>=7)]"
   ]
  },
  {
   "cell_type": "code",
   "execution_count": 86,
   "id": "7728e1a4",
   "metadata": {},
   "outputs": [
    {
     "data": {
      "text/html": [
       "<div>\n",
       "<style scoped>\n",
       "    .dataframe tbody tr th:only-of-type {\n",
       "        vertical-align: middle;\n",
       "    }\n",
       "\n",
       "    .dataframe tbody tr th {\n",
       "        vertical-align: top;\n",
       "    }\n",
       "\n",
       "    .dataframe thead th {\n",
       "        text-align: right;\n",
       "    }\n",
       "</style>\n",
       "<table border=\"1\" class=\"dataframe\">\n",
       "  <thead>\n",
       "    <tr style=\"text-align: right;\">\n",
       "      <th></th>\n",
       "      <th>Batch</th>\n",
       "      <th>User_ID</th>\n",
       "      <th>Score</th>\n",
       "    </tr>\n",
       "  </thead>\n",
       "  <tbody>\n",
       "    <tr>\n",
       "      <th>4</th>\n",
       "      <td>AI_ELITE_7</td>\n",
       "      <td>uid_145</td>\n",
       "      <td>4</td>\n",
       "    </tr>\n",
       "    <tr>\n",
       "      <th>20</th>\n",
       "      <td>AI_ELITE_7</td>\n",
       "      <td>uid_129</td>\n",
       "      <td>4</td>\n",
       "    </tr>\n",
       "    <tr>\n",
       "      <th>26</th>\n",
       "      <td>AI_ELITE_7</td>\n",
       "      <td>uid_123</td>\n",
       "      <td>4</td>\n",
       "    </tr>\n",
       "    <tr>\n",
       "      <th>28</th>\n",
       "      <td>AI_ELITE_7</td>\n",
       "      <td>uid_121</td>\n",
       "      <td>4</td>\n",
       "    </tr>\n",
       "    <tr>\n",
       "      <th>33</th>\n",
       "      <td>AI_ELITE_7</td>\n",
       "      <td>uid_116</td>\n",
       "      <td>4</td>\n",
       "    </tr>\n",
       "    <tr>\n",
       "      <th>39</th>\n",
       "      <td>AI_ELITE_7</td>\n",
       "      <td>uid_110</td>\n",
       "      <td>4</td>\n",
       "    </tr>\n",
       "    <tr>\n",
       "      <th>40</th>\n",
       "      <td>AI_ELITE_7</td>\n",
       "      <td>uid_109</td>\n",
       "      <td>4</td>\n",
       "    </tr>\n",
       "    <tr>\n",
       "      <th>45</th>\n",
       "      <td>AI_ELITE_7</td>\n",
       "      <td>uid_104</td>\n",
       "      <td>4</td>\n",
       "    </tr>\n",
       "    <tr>\n",
       "      <th>47</th>\n",
       "      <td>AI_ELITE_7</td>\n",
       "      <td>uid_102</td>\n",
       "      <td>4</td>\n",
       "    </tr>\n",
       "    <tr>\n",
       "      <th>51</th>\n",
       "      <td>AI_ELITE_7</td>\n",
       "      <td>uid_98</td>\n",
       "      <td>4</td>\n",
       "    </tr>\n",
       "    <tr>\n",
       "      <th>54</th>\n",
       "      <td>AI_ELITE_6</td>\n",
       "      <td>uid_95</td>\n",
       "      <td>4</td>\n",
       "    </tr>\n",
       "    <tr>\n",
       "      <th>57</th>\n",
       "      <td>AI_ELITE_6</td>\n",
       "      <td>uid_92</td>\n",
       "      <td>4</td>\n",
       "    </tr>\n",
       "    <tr>\n",
       "      <th>59</th>\n",
       "      <td>AI_ELITE_6</td>\n",
       "      <td>uid_90</td>\n",
       "      <td>4</td>\n",
       "    </tr>\n",
       "    <tr>\n",
       "      <th>70</th>\n",
       "      <td>AI_ELITE_6</td>\n",
       "      <td>uid_79</td>\n",
       "      <td>4</td>\n",
       "    </tr>\n",
       "    <tr>\n",
       "      <th>72</th>\n",
       "      <td>AI_ELITE_6</td>\n",
       "      <td>uid_77</td>\n",
       "      <td>4</td>\n",
       "    </tr>\n",
       "    <tr>\n",
       "      <th>75</th>\n",
       "      <td>AI_ELITE_6</td>\n",
       "      <td>uid_74</td>\n",
       "      <td>4</td>\n",
       "    </tr>\n",
       "    <tr>\n",
       "      <th>84</th>\n",
       "      <td>AI_ELITE_6</td>\n",
       "      <td>uid_65</td>\n",
       "      <td>4</td>\n",
       "    </tr>\n",
       "    <tr>\n",
       "      <th>89</th>\n",
       "      <td>AI_ELITE_6</td>\n",
       "      <td>uid_60</td>\n",
       "      <td>4</td>\n",
       "    </tr>\n",
       "    <tr>\n",
       "      <th>91</th>\n",
       "      <td>AI_ELITE_6</td>\n",
       "      <td>uid_58</td>\n",
       "      <td>4</td>\n",
       "    </tr>\n",
       "    <tr>\n",
       "      <th>94</th>\n",
       "      <td>AI_ELITE_6</td>\n",
       "      <td>uid_55</td>\n",
       "      <td>4</td>\n",
       "    </tr>\n",
       "    <tr>\n",
       "      <th>100</th>\n",
       "      <td>AI_ELITE_6</td>\n",
       "      <td>uid_49</td>\n",
       "      <td>4</td>\n",
       "    </tr>\n",
       "    <tr>\n",
       "      <th>103</th>\n",
       "      <td>AI_ELITE_4</td>\n",
       "      <td>uid_46</td>\n",
       "      <td>4</td>\n",
       "    </tr>\n",
       "    <tr>\n",
       "      <th>104</th>\n",
       "      <td>AI_ELITE_4</td>\n",
       "      <td>uid_45</td>\n",
       "      <td>4</td>\n",
       "    </tr>\n",
       "    <tr>\n",
       "      <th>110</th>\n",
       "      <td>AI_ELITE_4</td>\n",
       "      <td>uid_39</td>\n",
       "      <td>4</td>\n",
       "    </tr>\n",
       "    <tr>\n",
       "      <th>115</th>\n",
       "      <td>AI_ELITE_4</td>\n",
       "      <td>uid_34</td>\n",
       "      <td>4</td>\n",
       "    </tr>\n",
       "    <tr>\n",
       "      <th>117</th>\n",
       "      <td>AI_ELITE_4</td>\n",
       "      <td>uid_32</td>\n",
       "      <td>4</td>\n",
       "    </tr>\n",
       "    <tr>\n",
       "      <th>119</th>\n",
       "      <td>AI_ELITE_4</td>\n",
       "      <td>uid_30</td>\n",
       "      <td>4</td>\n",
       "    </tr>\n",
       "    <tr>\n",
       "      <th>123</th>\n",
       "      <td>AI_ELITE_4</td>\n",
       "      <td>uid_26</td>\n",
       "      <td>4</td>\n",
       "    </tr>\n",
       "    <tr>\n",
       "      <th>128</th>\n",
       "      <td>AI_ELITE_4</td>\n",
       "      <td>uid_21</td>\n",
       "      <td>4</td>\n",
       "    </tr>\n",
       "    <tr>\n",
       "      <th>131</th>\n",
       "      <td>AI_ELITE_4</td>\n",
       "      <td>uid_18</td>\n",
       "      <td>4</td>\n",
       "    </tr>\n",
       "    <tr>\n",
       "      <th>132</th>\n",
       "      <td>AI_ELITE_4</td>\n",
       "      <td>uid_17</td>\n",
       "      <td>4</td>\n",
       "    </tr>\n",
       "    <tr>\n",
       "      <th>133</th>\n",
       "      <td>AI_ELITE_4</td>\n",
       "      <td>uid_16</td>\n",
       "      <td>4</td>\n",
       "    </tr>\n",
       "    <tr>\n",
       "      <th>134</th>\n",
       "      <td>AI_ELITE_4</td>\n",
       "      <td>uid_15</td>\n",
       "      <td>4</td>\n",
       "    </tr>\n",
       "    <tr>\n",
       "      <th>137</th>\n",
       "      <td>AI_ELITE_4</td>\n",
       "      <td>uid_12</td>\n",
       "      <td>4</td>\n",
       "    </tr>\n",
       "    <tr>\n",
       "      <th>138</th>\n",
       "      <td>AI_ELITE_4</td>\n",
       "      <td>uid_11</td>\n",
       "      <td>4</td>\n",
       "    </tr>\n",
       "    <tr>\n",
       "      <th>140</th>\n",
       "      <td>AI_ELITE_4</td>\n",
       "      <td>uid_9</td>\n",
       "      <td>4</td>\n",
       "    </tr>\n",
       "    <tr>\n",
       "      <th>142</th>\n",
       "      <td>AI_ELITE_4</td>\n",
       "      <td>uid_7</td>\n",
       "      <td>4</td>\n",
       "    </tr>\n",
       "    <tr>\n",
       "      <th>144</th>\n",
       "      <td>AI_ELITE_4</td>\n",
       "      <td>uid_5</td>\n",
       "      <td>4</td>\n",
       "    </tr>\n",
       "    <tr>\n",
       "      <th>145</th>\n",
       "      <td>AI_ELITE_4</td>\n",
       "      <td>uid_4</td>\n",
       "      <td>4</td>\n",
       "    </tr>\n",
       "    <tr>\n",
       "      <th>146</th>\n",
       "      <td>AI_ELITE_4</td>\n",
       "      <td>uid_3</td>\n",
       "      <td>4</td>\n",
       "    </tr>\n",
       "  </tbody>\n",
       "</table>\n",
       "</div>"
      ],
      "text/plain": [
       "          Batch  User_ID  Score\n",
       "4    AI_ELITE_7  uid_145      4\n",
       "20   AI_ELITE_7  uid_129      4\n",
       "26   AI_ELITE_7  uid_123      4\n",
       "28   AI_ELITE_7  uid_121      4\n",
       "33   AI_ELITE_7  uid_116      4\n",
       "39   AI_ELITE_7  uid_110      4\n",
       "40   AI_ELITE_7  uid_109      4\n",
       "45   AI_ELITE_7  uid_104      4\n",
       "47   AI_ELITE_7  uid_102      4\n",
       "51   AI_ELITE_7   uid_98      4\n",
       "54   AI_ELITE_6   uid_95      4\n",
       "57   AI_ELITE_6   uid_92      4\n",
       "59   AI_ELITE_6   uid_90      4\n",
       "70   AI_ELITE_6   uid_79      4\n",
       "72   AI_ELITE_6   uid_77      4\n",
       "75   AI_ELITE_6   uid_74      4\n",
       "84   AI_ELITE_6   uid_65      4\n",
       "89   AI_ELITE_6   uid_60      4\n",
       "91   AI_ELITE_6   uid_58      4\n",
       "94   AI_ELITE_6   uid_55      4\n",
       "100  AI_ELITE_6   uid_49      4\n",
       "103  AI_ELITE_4   uid_46      4\n",
       "104  AI_ELITE_4   uid_45      4\n",
       "110  AI_ELITE_4   uid_39      4\n",
       "115  AI_ELITE_4   uid_34      4\n",
       "117  AI_ELITE_4   uid_32      4\n",
       "119  AI_ELITE_4   uid_30      4\n",
       "123  AI_ELITE_4   uid_26      4\n",
       "128  AI_ELITE_4   uid_21      4\n",
       "131  AI_ELITE_4   uid_18      4\n",
       "132  AI_ELITE_4   uid_17      4\n",
       "133  AI_ELITE_4   uid_16      4\n",
       "134  AI_ELITE_4   uid_15      4\n",
       "137  AI_ELITE_4   uid_12      4\n",
       "138  AI_ELITE_4   uid_11      4\n",
       "140  AI_ELITE_4    uid_9      4\n",
       "142  AI_ELITE_4    uid_7      4\n",
       "144  AI_ELITE_4    uid_5      4\n",
       "145  AI_ELITE_4    uid_4      4\n",
       "146  AI_ELITE_4    uid_3      4"
      ]
     },
     "execution_count": 86,
     "metadata": {},
     "output_type": "execute_result"
    }
   ],
   "source": [
    "x.get_group(4)"
   ]
  },
  {
   "cell_type": "code",
   "execution_count": 45,
   "id": "721ba05f",
   "metadata": {},
   "outputs": [
    {
     "data": {
      "text/plain": [
       "4.382550335570469"
      ]
     },
     "execution_count": 45,
     "metadata": {},
     "output_type": "execute_result"
    }
   ],
   "source": [
    "df[\"Score\"].mean()"
   ]
  },
  {
   "cell_type": "raw",
   "id": "fb289d85",
   "metadata": {},
   "source": [
    "Observations :\n",
    "    More number Id's were at  score 4 \n",
    "    Most of the ID's who achieved 7 is from batch_7\n",
    "    Out of 68 ID's who achieved above seven \n",
    "    Most of the students from batch_4 are with score 4\n",
    "    There are two ID's with 0 score one is from batch_6 and batch_4\n",
    "    The average score among 150 Id's is 4\n",
    "  "
   ]
  },
  {
   "cell_type": "code",
   "execution_count": null,
   "id": "372335ce",
   "metadata": {},
   "outputs": [],
   "source": []
  }
 ],
 "metadata": {
  "kernelspec": {
   "display_name": "Python 3 (ipykernel)",
   "language": "python",
   "name": "python3"
  },
  "language_info": {
   "codemirror_mode": {
    "name": "ipython",
    "version": 3
   },
   "file_extension": ".py",
   "mimetype": "text/x-python",
   "name": "python",
   "nbconvert_exporter": "python",
   "pygments_lexer": "ipython3",
   "version": "3.9.12"
  }
 },
 "nbformat": 4,
 "nbformat_minor": 5
}
